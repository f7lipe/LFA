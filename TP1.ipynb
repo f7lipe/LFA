{
  "nbformat": 4,
  "nbformat_minor": 0,
  "metadata": {
    "colab": {
      "provenance": []
    },
    "kernelspec": {
      "name": "python3",
      "display_name": "Python 3"
    },
    "language_info": {
      "name": "python"
    }
  },
  "cells": [
    {
      "cell_type": "markdown",
      "source": [
        "# Algorítimo para Simular AFD\n",
        "\n",
        "Atividade avaliativa da disciplina Lingaugens Formais e Autôtmatos \n",
        "<br>\n",
        "Discente: Filipe Ribeiro Correia da Silva\n",
        "<br>\n",
        "Matrícula: 2021223496"
      ],
      "metadata": {
        "id": "KuCX6TqGLtNq"
      }
    },
    {
      "cell_type": "markdown",
      "source": [
        "## Sobre o algorítimo\n",
        "\n",
        "Este alogrítimo é baseado no pseudocódigo apresentado em [ 1 ] , onde utiliza-se um loop para percorrer os estados do AFD e verificar se a palavra de entrada é reconhecida."
      ],
      "metadata": {
        "id": "pM5TvPs4L9Vu"
      }
    },
    {
      "cell_type": "markdown",
      "source": [
        "## Estrutura de dados utilizada"
      ],
      "metadata": {
        "id": "2tPZV3c6MJmm"
      }
    },
    {
      "cell_type": "markdown",
      "source": [
        "Para a construção desse algorítimo, foi utilizada uma estrutura de **dicionário** ( ou tabela hash ) para representar as transições do AFD. \n",
        "\n",
        "Cada chave é uma tupla (*estado atual*, *símbolo de entrada*) e o valor é o próximo estado alcançado pela transição.\n",
        "\n",
        "Também foi utilizada uma **lista** para armazenar os estados finais do AFD."
      ],
      "metadata": {
        "id": "KLK4AnaaNBmK"
      }
    },
    {
      "cell_type": "markdown",
      "source": [
        "## Complexidade\n",
        "\n",
        "Considerando a complexidade em relação ao tamanho do AFD, pode-se dizer que ela é quadrática. Isso porque a busca das transições no AFD pode levar até O(|E|*|S|), onde |E| é o número de estados do AFD e |S| é o tamanho do alfabeto, já que o algoritmo precisa buscar a transição correspondente para cada símbolo da entrada.\n",
        "\n",
        "No entanto, em relação ao tamanho da palavra de entrada, a complexidade é linear, já que o algoritmo percorre cada símbolo da palavra uma única vez. Por isso, a complexidade O(|w|) é mais relevante na prática, já que a entrada mais crítica para o desempenho do algoritmo é a palavra de teste."
      ],
      "metadata": {
        "id": "irF0H4ITMBvF"
      }
    },
    {
      "cell_type": "markdown",
      "source": [
        "### Implementação"
      ],
      "metadata": {
        "id": "lGT4gVG1PYf_"
      }
    },
    {
      "cell_type": "code",
      "source": [
        "def simula_afd(estados, alfabeto, transicoes, inicial, finais, palavras):\n",
        "\n",
        "  for palavra in palavras:\n",
        "    e = inicial # inicia com o estado atual\n",
        "    for s in palavra:\n",
        "        if (e, s) in transicoes: # verifica se há transição para o símbolo da entrada\n",
        "            e = transicoes[(e, s)] # atualiza o estado atual\n",
        "        else:\n",
        "            e = \"ERRO\" # caso contrário, vai para o estado de erro\n",
        "            break # interrompe o loop\n",
        "    if e in finais: # verifica se o estado atual é um estado final\n",
        "        print(\"S\")\n",
        "    else:\n",
        "        print(\"N\")\n"
      ],
      "metadata": {
        "id": "cmO8wMdXrxjx"
      },
      "execution_count": null,
      "outputs": []
    },
    {
      "cell_type": "markdown",
      "source": [
        "### Exemplo"
      ],
      "metadata": {
        "id": "xdhTocqvPdkI"
      }
    },
    {
      "cell_type": "code",
      "source": [
        "estados = ['0', '1']\n",
        "alfabeto = ['a', 'b']\n",
        "\n",
        "transicoes = {\n",
        "    ('0', 'a'): '1',\n",
        "    ('1', 'a'): '1',\n",
        "    ('1', 'b'): '1'\n",
        "}\n",
        "\n",
        "inicial = '0'\n",
        "finais = ['1']\n",
        "\n",
        "palavras = ['a', 'b', 'aba', 'abb', 'b']\n",
        "\n",
        "simula_afd(estados, alfabeto, transicoes, inicial, finais, palavras)"
      ],
      "metadata": {
        "colab": {
          "base_uri": "https://localhost:8080/"
        },
        "id": "-ITCkFQAra3U",
        "outputId": "0a36a517-a56b-47fc-fe9c-0b868c13119b"
      },
      "execution_count": null,
      "outputs": [
        {
          "output_type": "stream",
          "name": "stdout",
          "text": [
            "S\n",
            "N\n",
            "S\n",
            "S\n",
            "N\n"
          ]
        }
      ]
    },
    {
      "cell_type": "markdown",
      "source": [
        "# Referências\n",
        "\n",
        "\n",
        "\n",
        "1.   **VIEIRA, N. J**. Introdução aos fundamentos da computação: Linguagens e máquinas. Notas de aula. Algoritmo para simular AFDs, p. 26 (32).\n",
        "\n",
        "2. **PEREIRA, W**. Introdução à complexidade de algoritmos. Medium [blog], 2021. Disponível em: [clique aqui](https://medium.com/nagoya-foundation/introdução-à-complexidade-de-algoritmos-4a9c237e4ecc). Acesso em: 13 mar. 2023. \n",
        "\n"
      ],
      "metadata": {
        "id": "mWA_bG2fP119"
      }
    }
  ]
}