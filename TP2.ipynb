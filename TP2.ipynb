{
  "nbformat": 4,
  "nbformat_minor": 0,
  "metadata": {
    "colab": {
      "provenance": []
    },
    "kernelspec": {
      "name": "python3",
      "display_name": "Python 3"
    },
    "language_info": {
      "name": "python"
    }
  },
  "cells": [
    {
      "cell_type": "markdown",
      "source": [
        "# Algorítimo para Simular AFND\n",
        "\n",
        "Atividade avaliativa da disciplina Lingaugens Formais e Autôtmatos \n",
        "<br>\n",
        "Discente: Filipe Ribeiro Correia da Silva\n",
        "<br>\n",
        "Matrícula: 2021223496"
      ],
      "metadata": {
        "id": "KuCX6TqGLtNq"
      }
    },
    {
      "cell_type": "markdown",
      "source": [
        "## Sobre o algorítimo\n",
        "\n",
        "O algoritmo implementado tem como objetivo simular a execução de um Autômato Finito Não-Determinístico (AFND) para um conjunto de palavras de entrada. O programa recebe como entrada a descrição do AFND, que inclui a lista de estados, o alfabeto, as transições, o estado inicial e a lista de estados finais. Em seguida, é feito o processamento de cada palavra de entrada, indicando se a palavra é aceita ou rejeitada pelo AFND."
      ],
      "metadata": {
        "id": "pM5TvPs4L9Vu"
      }
    },
    {
      "cell_type": "markdown",
      "source": [
        "## Estrutura de dados utilizada"
      ],
      "metadata": {
        "id": "2tPZV3c6MJmm"
      }
    },
    {
      "cell_type": "markdown",
      "source": [
        "Para representar o AFND, utilizou-se a estrutura de dados de conjunto (**set**) para armazenar a lista de estados, uma lista para armazenar o alfabeto, um dicionário para armazenar as transições, uma variável para armazenar o estado inicial e um conjunto para armazenar a lista de estados finais.\n",
        "\n",
        "A simulação do AFND utiliza um conjunto para representar o conjunto de estados atuais em que o AFND pode estar após processar uma determinada entrada. A cada símbolo da entrada, o conjunto é atualizado para os estados atuais adicionando novos estados alcançáveis pelas transições correspondentes ao símbolo. O conjunto de estados atuais é atualizado a cada símbolo da entrada, até que sejam processados todos os símbolos da palavra de entrada.\n"
      ],
      "metadata": {
        "id": "KLK4AnaaNBmK"
      }
    },
    {
      "cell_type": "markdown",
      "source": [
        "## Gerenciamento do não determinismo\n",
        "\n",
        "O não determinismo é gerenciado utilizando um conjunto para representar o conjunto de estados atuais em que o AFND pode estar após processar uma determinada entrada. Para cada símbolo da entrada, adicionou-se ao conjunto de estados atuais todos os estados alcançáveis pelas transições correspondentes ao símbolo. Dessa forma, o conjunto de estados atuais pode conter mais de um estado, representando assim o não determinismo do AFND."
      ],
      "metadata": {
        "id": "irF0H4ITMBvF"
      }
    },
    {
      "cell_type": "markdown",
      "source": [
        "### Implementação"
      ],
      "metadata": {
        "id": "lGT4gVG1PYf_"
      }
    },
    {
      "cell_type": "code",
      "source": [
        "def simula_afnd(estados, alfabeto, transicoes, inicial, finais, palavras):\n",
        "    for palavra in palavras:\n",
        "        estados_atuais = set() # inicia com o conjunto de estados atuais\n",
        "        estados_atuais.add(inicial)\n",
        "        for simbolo in palavra:\n",
        "            proximos_estados = set() # conjunto para armazenar próximos estados alcançáveis\n",
        "            for estado_atual in estados_atuais:\n",
        "                if (estado_atual, simbolo) in transicoes: # verifica se há transição para o símbolo da entrada\n",
        "                    proximos_estados |= set(transicoes[(estado_atual, simbolo)]) # adiciona os próximos estados alcançáveis\n",
        "            estados_atuais = proximos_estados # atualiza o conjunto de estados atuais\n",
        "            if not estados_atuais: # caso o conjunto seja vazio, vai para o estado de erro\n",
        "                estados_atuais.add(\"ERRO\")\n",
        "                break # interrompe o loop\n",
        "        if estados_atuais & set(finais): # verifica se há interseção entre os estados atuais e os estados finais\n",
        "            print(\"S\")\n",
        "        else:\n",
        "            print(\"N\")"
      ],
      "metadata": {
        "id": "cmO8wMdXrxjx"
      },
      "execution_count": 1,
      "outputs": []
    },
    {
      "cell_type": "markdown",
      "source": [
        "### Exemplo"
      ],
      "metadata": {
        "id": "xdhTocqvPdkI"
      }
    },
    {
      "cell_type": "code",
      "source": [
        "estados = ['0', '1']\n",
        "alfabeto = ['a', 'b']\n",
        "transicoes = {('0', 'a'): {'0'}, ('0', 'b'): {'0', '1'}, ('1', 'a'): set(), ('1', 'b'): set()}\n",
        "inicial = '0'\n",
        "finais = {'1'}\n",
        "palavras = ['a', 'b', 'aba', 'abb']\n",
        "\n",
        "simula_afnd(estados, alfabeto, transicoes, inicial, finais, palavras)"
      ],
      "metadata": {
        "colab": {
          "base_uri": "https://localhost:8080/"
        },
        "id": "-ITCkFQAra3U",
        "outputId": "db3c31d4-eff2-4591-fa1e-ba154b8d0ce2"
      },
      "execution_count": 4,
      "outputs": [
        {
          "output_type": "stream",
          "name": "stdout",
          "text": [
            "N\n",
            "S\n",
            "N\n",
            "S\n"
          ]
        }
      ]
    },
    {
      "cell_type": "markdown",
      "source": [
        "# Referências\n",
        "\n",
        "\n",
        "\n",
        "1.  **ALGORITMOS EM PYTHON**. Conjuntos. Algoritmos em Python. Disponível em: [clique aqui](https://algoritmosempython.com.br/cursos/programacao-python/conjuntos/). Acesso em: 25 mar. 2023.\n",
        "\n",
        "2. NASCIMENTO, Vanessa. **afn**. GitHub, 2021. Disponível em: [clique aqui](https://github.com/vanessa-nascimento/afn). Acesso em: 27 mar. 2023.\n",
        "\n"
      ],
      "metadata": {
        "id": "mWA_bG2fP119"
      }
    }
  ]
}